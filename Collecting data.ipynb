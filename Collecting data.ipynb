{
 "cells": [
  {
   "cell_type": "code",
   "execution_count": 1,
   "id": "1ece6644-fe48-4011-bced-35c7f022a606",
   "metadata": {},
   "outputs": [],
   "source": [
    "import os\n",
    "import pandas as pd\n",
    "import cv2\n",
    "import mediapipe as mp\n",
    "\n",
    "from sklearn.ensemble import RandomForestClassifier"
   ]
  },
  {
   "cell_type": "code",
   "execution_count": 2,
   "id": "2c480d3b-4b2f-46f8-b2b9-f05ede2c17e2",
   "metadata": {},
   "outputs": [],
   "source": [
    "mp_drawing = mp.solutions.drawing_utils\n",
    "mp_hands = mp.solutions.hands"
   ]
  },
  {
   "cell_type": "code",
   "execution_count": 3,
   "id": "841c8193-214d-4763-a8f7-3dea56cf9f83",
   "metadata": {},
   "outputs": [],
   "source": [
    "CLASSES = ['Y', 'Z']\n",
    "BASE_DIR = os.getcwd()\n",
    "IMAGE_DIR = 'data_both_hands'\n",
    "NO_OF_ROWS_PER_CLASS = 2001\n",
    "CHANGE_HANDS = 1000\n",
    "flag_right_hand = True"
   ]
  },
  {
   "cell_type": "code",
   "execution_count": 4,
   "id": "4caa4f04-6782-4d54-9fa6-9e23669c7a53",
   "metadata": {},
   "outputs": [
    {
     "name": "stdout",
     "output_type": "stream",
     "text": [
      "Collecting data points for Y class\n"
     ]
    },
    {
     "name": "stderr",
     "output_type": "stream",
     "text": [
      "2024-05-16 00:59:05.556 Python[57295:5459131] WARNING: Secure coding is automatically enabled for restorable state! However, not on all supported macOS versions of this application. Opt-in to secure coding explicitly by implementing NSApplicationDelegate.applicationSupportsSecureRestorableState:.\n",
      "WARNING: All log messages before absl::InitializeLog() is called are written to STDERR\n",
      "I0000 00:00:1715835550.288436       1 gl_context.cc:344] GL version: 2.1 (2.1 Metal - 88), renderer: Apple M2 Pro\n",
      "INFO: Created TensorFlow Lite XNNPACK delegate for CPU.\n"
     ]
    },
    {
     "name": "stdout",
     "output_type": "stream",
     "text": [
      "Collecting data points for Z class\n"
     ]
    },
    {
     "name": "stderr",
     "output_type": "stream",
     "text": [
      "I0000 00:00:1715835713.223260       1 gl_context.cc:344] GL version: 2.1 (2.1 Metal - 88), renderer: Apple M2 Pro\n"
     ]
    },
    {
     "data": {
      "text/plain": [
       "-1"
      ]
     },
     "execution_count": 4,
     "metadata": {},
     "output_type": "execute_result"
    }
   ],
   "source": [
    "# Check is IMAGE_STEPS is a multiple of NO_OF_IMAGES_PER_CLASS\n",
    "\n",
    "# Check if image directory exists or not. If it doesn't then create directory.\n",
    "if not os.path.exists(os.path.join(BASE_DIR, IMAGE_DIR)):\n",
    "    os.mkdir(path = os.path.join(BASE_DIR, IMAGE_DIR))\n",
    "\n",
    "# Start capturing images\n",
    "cap = cv2.VideoCapture(0)\n",
    "\n",
    "if not cap.isOpened():\n",
    "    print(\"Unable to open camera\")\n",
    "    exit()\n",
    "\n",
    "# Iterate through classes\n",
    "for classes in CLASSES:\n",
    "    counter = 1\n",
    "    print(f\"Collecting data points for {classes} class\")\n",
    "\n",
    "    # Waiting window\n",
    "    while True:\n",
    "        ret, frame = cap.read()\n",
    "        frame = cv2.flip(frame, 1)\n",
    "        cv2.putText(frame, 'Ready? Press \"Q\" ! :)', (50, 100), cv2.FONT_HERSHEY_SIMPLEX, 1.3, (0, 255, 0), 3,\n",
    "                    cv2.LINE_AA)\n",
    "        cv2.imshow('Waiting window', frame)\n",
    "        if cv2.waitKey(1) == ord('q'):\n",
    "            cv2.destroyAllWindows()\n",
    "            cv2.waitKey(1)\n",
    "            break\n",
    "\n",
    "    coords_list = list()\n",
    "    # Detect hands using Mediapipe and store landmark coordinates\n",
    "    with mp_hands.Hands(static_image_mode = False, max_num_hands = 1, min_detection_confidence = 0.2) as hands:\n",
    "        while counter != NO_OF_ROWS_PER_CLASS:\n",
    "            # First right hand\n",
    "            if counter <= CHANGE_HANDS:\n",
    "                success, image = cap.read()\n",
    "                image = cv2.flip(image, 1)\n",
    "                if not success:\n",
    "                    print(\"Error reading frame from camera\")\n",
    "                    break\n",
    "        \n",
    "                results = hands.process(image)\n",
    "                if results.multi_hand_landmarks:\n",
    "                    coords = list()\n",
    "                    for idx, value in enumerate(results.multi_hand_landmarks[0].landmark):\n",
    "                        coords.append(value.x)\n",
    "                        coords.append(value.y)\n",
    "                    coords_list.append(coords)\n",
    "                # Draw hand landmarks on image\n",
    "                if results.multi_hand_landmarks:\n",
    "                    for hand_landmarks in results.multi_hand_landmarks:\n",
    "                        mp_drawing.draw_landmarks(image, hand_landmarks, mp_hands.HAND_CONNECTIONS,\n",
    "                                                 mp_drawing.DrawingSpec(color=(0,255,0), thickness = 2, circle_radius = 4))\n",
    "    \n",
    "                cv2.putText(image, f'Collecting datapoints, counter {counter}', (50, 100), cv2.FONT_HERSHEY_SIMPLEX, 1.3, (0, 255, 0), 3,\n",
    "                        cv2.LINE_AA)\n",
    "                cv2.imshow(f\"Collecting for {classes} class, right hand\", image)\n",
    "                # Check for the 'q' key to exit\n",
    "                if cv2.waitKey(1) == ord(\"q\"):\n",
    "                    cv2.destroyAllWindows()\n",
    "                    cv2.waitKey(1)\n",
    "                    break\n",
    "\n",
    "            # Waiting window for changing hands\n",
    "            if counter == CHANGE_HANDS + 1:\n",
    "                while True:\n",
    "                    ret, frame = cap.read()\n",
    "                    frame = cv2.flip(frame, 1)\n",
    "                    cv2.putText(frame, 'Waiting to switch hands, press \\'q\\' when ready.', (50, 100), cv2.FONT_HERSHEY_SIMPLEX, 1.3, (0, 255, 0), 3,\n",
    "                                cv2.LINE_AA)\n",
    "                    cv2.imshow('Waiting window', frame)\n",
    "                    if cv2.waitKey(1) == ord('q'):\n",
    "                        cv2.destroyAllWindows()\n",
    "                        cv2.waitKey(1)\n",
    "                        break\n",
    "                        \n",
    "            # Left hand\n",
    "            if counter > CHANGE_HANDS:\n",
    "                success, image = cap.read()\n",
    "                image = cv2.flip(image, 1)\n",
    "                if not success:\n",
    "                    print(\"Error reading frame from camera\")\n",
    "                    break\n",
    "        \n",
    "                results = hands.process(image)\n",
    "                if results.multi_hand_landmarks:\n",
    "                    coords = list()\n",
    "                    for idx, value in enumerate(results.multi_hand_landmarks[0].landmark):\n",
    "                        coords.append(value.x)\n",
    "                        coords.append(value.y)\n",
    "                    coords_list.append(coords)\n",
    "                # Draw hand landmarks on image\n",
    "                if results.multi_hand_landmarks:\n",
    "                    for hand_landmarks in results.multi_hand_landmarks:\n",
    "                        mp_drawing.draw_landmarks(image, hand_landmarks, mp_hands.HAND_CONNECTIONS,\n",
    "                                                 mp_drawing.DrawingSpec(color=(0,255,0), thickness = 2, circle_radius = 4))\n",
    "    \n",
    "                cv2.putText(image, f'Collecting datapoints, counter {counter}', (50, 100), cv2.FONT_HERSHEY_SIMPLEX, 1.3, (0, 255, 0), 3,\n",
    "                        cv2.LINE_AA)\n",
    "                cv2.imshow(f\"Collecting for {classes} class, left hand\", image)\n",
    "                # Check for the 'q' key to exit\n",
    "                if cv2.waitKey(1) == ord(\"q\"):\n",
    "                    cv2.destroyAllWindows()\n",
    "                    cv2.waitKey(1)\n",
    "                    break\n",
    "\n",
    "            counter += 1\n",
    "\n",
    "        cv2.destroyAllWindows()\n",
    "        cv2.waitKey(1)\n",
    "\n",
    "    temp = pd.DataFrame(coords_list)\n",
    "    temp.to_csv(os.path.join(IMAGE_DIR, f\"{classes}_both.csv\"), index=False)       \n",
    "\n",
    "cap.release()\n",
    "cv2.destroyAllWindows()\n",
    "cv2.waitKey(1)\n",
    "    "
   ]
  },
  {
   "cell_type": "code",
   "execution_count": null,
   "id": "afca7b6b-b363-4273-957e-e7ff1f0cdf5d",
   "metadata": {},
   "outputs": [],
   "source": []
  }
 ],
 "metadata": {
  "kernelspec": {
   "display_name": "Python 3 (ipykernel)",
   "language": "python",
   "name": "python3"
  },
  "language_info": {
   "codemirror_mode": {
    "name": "ipython",
    "version": 3
   },
   "file_extension": ".py",
   "mimetype": "text/x-python",
   "name": "python",
   "nbconvert_exporter": "python",
   "pygments_lexer": "ipython3",
   "version": "3.9.6"
  }
 },
 "nbformat": 4,
 "nbformat_minor": 5
}
