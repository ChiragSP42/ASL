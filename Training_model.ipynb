{
 "cells": [
  {
   "cell_type": "code",
   "execution_count": 64,
   "id": "bf54c803-e51f-4e7c-8241-0e096c7a349d",
   "metadata": {},
   "outputs": [],
   "source": [
    "import os\n",
    "import pickle\n",
    "import cv2\n",
    "import pandas as pd\n",
    "import mediapipe as mp\n",
    "from sklearn.model_selection import train_test_split\n",
    "from sklearn.ensemble import RandomForestClassifier\n",
    "from sklearn.metrics import classification_report"
   ]
  },
  {
   "cell_type": "markdown",
   "id": "95e83ccc-0dcb-43b0-8b67-20d7e629da75",
   "metadata": {},
   "source": [
    "# Load all data"
   ]
  },
  {
   "cell_type": "code",
   "execution_count": 72,
   "id": "e2bbecf8-c01e-42c0-8be4-5505aa346d60",
   "metadata": {
    "scrolled": true
   },
   "outputs": [],
   "source": [
    "def load():\n",
    "\n",
    "    def preprocessing(BASE_DIR, TARGET_DIR, file, idx):\n",
    "        df = pd.read_csv(os.path.join(BASE_DIR, TARGET_DIR, file))\n",
    "\n",
    "        df[\"Target\"] = idx\n",
    "\n",
    "        return df\n",
    "    \n",
    "    BASE_DIR = os.getcwd()\n",
    "    TARGET_DIR = \"data_both_hands\"\n",
    "\n",
    "    temp_list = list()\n",
    "    for idx, file in enumerate(sorted(os.listdir(os.path.join(BASE_DIR, TARGET_DIR)))):\n",
    "        if file.endswith(\".csv\"):\n",
    "            temp_list.append(preprocessing(BASE_DIR, TARGET_DIR, file, idx))\n",
    "\n",
    "    final_df = pd.concat(temp_list).reset_index(drop = True)\n",
    "\n",
    "    return final_df"
   ]
  },
  {
   "cell_type": "markdown",
   "id": "0e6c1841-4423-4c27-96fa-4686c2630efc",
   "metadata": {},
   "source": [
    "# Fit Random Forest model"
   ]
  },
  {
   "cell_type": "code",
   "execution_count": 73,
   "id": "71c26bf5-bdd5-4a9d-b5fe-109cd9e97106",
   "metadata": {},
   "outputs": [
    {
     "data": {
      "text/html": [
       "<style>#sk-container-id-7 {color: black;}#sk-container-id-7 pre{padding: 0;}#sk-container-id-7 div.sk-toggleable {background-color: white;}#sk-container-id-7 label.sk-toggleable__label {cursor: pointer;display: block;width: 100%;margin-bottom: 0;padding: 0.3em;box-sizing: border-box;text-align: center;}#sk-container-id-7 label.sk-toggleable__label-arrow:before {content: \"▸\";float: left;margin-right: 0.25em;color: #696969;}#sk-container-id-7 label.sk-toggleable__label-arrow:hover:before {color: black;}#sk-container-id-7 div.sk-estimator:hover label.sk-toggleable__label-arrow:before {color: black;}#sk-container-id-7 div.sk-toggleable__content {max-height: 0;max-width: 0;overflow: hidden;text-align: left;background-color: #f0f8ff;}#sk-container-id-7 div.sk-toggleable__content pre {margin: 0.2em;color: black;border-radius: 0.25em;background-color: #f0f8ff;}#sk-container-id-7 input.sk-toggleable__control:checked~div.sk-toggleable__content {max-height: 200px;max-width: 100%;overflow: auto;}#sk-container-id-7 input.sk-toggleable__control:checked~label.sk-toggleable__label-arrow:before {content: \"▾\";}#sk-container-id-7 div.sk-estimator input.sk-toggleable__control:checked~label.sk-toggleable__label {background-color: #d4ebff;}#sk-container-id-7 div.sk-label input.sk-toggleable__control:checked~label.sk-toggleable__label {background-color: #d4ebff;}#sk-container-id-7 input.sk-hidden--visually {border: 0;clip: rect(1px 1px 1px 1px);clip: rect(1px, 1px, 1px, 1px);height: 1px;margin: -1px;overflow: hidden;padding: 0;position: absolute;width: 1px;}#sk-container-id-7 div.sk-estimator {font-family: monospace;background-color: #f0f8ff;border: 1px dotted black;border-radius: 0.25em;box-sizing: border-box;margin-bottom: 0.5em;}#sk-container-id-7 div.sk-estimator:hover {background-color: #d4ebff;}#sk-container-id-7 div.sk-parallel-item::after {content: \"\";width: 100%;border-bottom: 1px solid gray;flex-grow: 1;}#sk-container-id-7 div.sk-label:hover label.sk-toggleable__label {background-color: #d4ebff;}#sk-container-id-7 div.sk-serial::before {content: \"\";position: absolute;border-left: 1px solid gray;box-sizing: border-box;top: 0;bottom: 0;left: 50%;z-index: 0;}#sk-container-id-7 div.sk-serial {display: flex;flex-direction: column;align-items: center;background-color: white;padding-right: 0.2em;padding-left: 0.2em;position: relative;}#sk-container-id-7 div.sk-item {position: relative;z-index: 1;}#sk-container-id-7 div.sk-parallel {display: flex;align-items: stretch;justify-content: center;background-color: white;position: relative;}#sk-container-id-7 div.sk-item::before, #sk-container-id-7 div.sk-parallel-item::before {content: \"\";position: absolute;border-left: 1px solid gray;box-sizing: border-box;top: 0;bottom: 0;left: 50%;z-index: -1;}#sk-container-id-7 div.sk-parallel-item {display: flex;flex-direction: column;z-index: 1;position: relative;background-color: white;}#sk-container-id-7 div.sk-parallel-item:first-child::after {align-self: flex-end;width: 50%;}#sk-container-id-7 div.sk-parallel-item:last-child::after {align-self: flex-start;width: 50%;}#sk-container-id-7 div.sk-parallel-item:only-child::after {width: 0;}#sk-container-id-7 div.sk-dashed-wrapped {border: 1px dashed gray;margin: 0 0.4em 0.5em 0.4em;box-sizing: border-box;padding-bottom: 0.4em;background-color: white;}#sk-container-id-7 div.sk-label label {font-family: monospace;font-weight: bold;display: inline-block;line-height: 1.2em;}#sk-container-id-7 div.sk-label-container {text-align: center;}#sk-container-id-7 div.sk-container {/* jupyter's `normalize.less` sets `[hidden] { display: none; }` but bootstrap.min.css set `[hidden] { display: none !important; }` so we also need the `!important` here to be able to override the default hidden behavior on the sphinx rendered scikit-learn.org. See: https://github.com/scikit-learn/scikit-learn/issues/21755 */display: inline-block !important;position: relative;}#sk-container-id-7 div.sk-text-repr-fallback {display: none;}</style><div id=\"sk-container-id-7\" class=\"sk-top-container\"><div class=\"sk-text-repr-fallback\"><pre>RandomForestClassifier(random_state=42)</pre><b>In a Jupyter environment, please rerun this cell to show the HTML representation or trust the notebook. <br />On GitHub, the HTML representation is unable to render, please try loading this page with nbviewer.org.</b></div><div class=\"sk-container\" hidden><div class=\"sk-item\"><div class=\"sk-estimator sk-toggleable\"><input class=\"sk-toggleable__control sk-hidden--visually\" id=\"sk-estimator-id-7\" type=\"checkbox\" checked><label for=\"sk-estimator-id-7\" class=\"sk-toggleable__label sk-toggleable__label-arrow\">RandomForestClassifier</label><div class=\"sk-toggleable__content\"><pre>RandomForestClassifier(random_state=42)</pre></div></div></div></div></div>"
      ],
      "text/plain": [
       "RandomForestClassifier(random_state=42)"
      ]
     },
     "execution_count": 73,
     "metadata": {},
     "output_type": "execute_result"
    }
   ],
   "source": [
    "final_df = load()\n",
    "X = final_df.drop(\"Target\", axis = 1).copy()\n",
    "y = final_df.loc[:, \"Target\"].copy()\n",
    "\n",
    "X_train, X_test, y_train, y_test = train_test_split(X, y, train_size = 0.8, stratify = y, random_state = 42, shuffle = True)\n",
    "\n",
    "rf = RandomForestClassifier(n_estimators = 100,\n",
    "                            random_state = 42)\n",
    "rf.fit(X_train, y_train)"
   ]
  },
  {
   "cell_type": "markdown",
   "id": "eabd7eef-1ecf-4a84-8153-c6b09f22e885",
   "metadata": {},
   "source": [
    "# Model Evaluation"
   ]
  },
  {
   "cell_type": "code",
   "execution_count": 74,
   "id": "1ece99b6-30ed-48b4-9627-c11d6c8d5bb7",
   "metadata": {},
   "outputs": [
    {
     "name": "stdout",
     "output_type": "stream",
     "text": [
      "              precision    recall  f1-score   support\n",
      "\n",
      "           1       0.95      0.97      0.96       399\n",
      "           2       1.00      1.00      1.00       400\n",
      "           3       1.00      1.00      1.00       400\n",
      "           4       1.00      1.00      1.00       400\n",
      "           5       0.99      0.99      0.99       400\n",
      "           6       1.00      1.00      1.00       400\n",
      "           7       0.99      1.00      0.99       400\n",
      "           8       0.99      0.99      0.99       399\n",
      "           9       0.94      0.98      0.96       400\n",
      "          10       0.96      0.91      0.93       400\n",
      "          11       1.00      1.00      1.00       399\n",
      "          12       1.00      1.00      1.00       400\n",
      "          13       1.00      1.00      1.00       400\n",
      "          14       0.98      0.98      0.98       400\n",
      "          15       0.99      0.98      0.99       400\n",
      "          16       0.99      0.99      0.99       398\n",
      "          17       0.99      0.99      0.99       395\n",
      "          18       0.95      0.95      0.95       400\n",
      "          19       0.96      0.96      0.96       400\n",
      "          20       1.00      1.00      1.00       400\n",
      "          21       0.91      0.91      0.91       400\n",
      "          22       0.95      0.94      0.94       399\n",
      "          23       1.00      1.00      1.00       400\n",
      "          24       1.00      1.00      1.00       400\n",
      "          25       0.99      0.98      0.99       400\n",
      "          26       0.99      0.99      0.99       398\n",
      "\n",
      "    accuracy                           0.98     10387\n",
      "   macro avg       0.98      0.98      0.98     10387\n",
      "weighted avg       0.98      0.98      0.98     10387\n",
      "\n"
     ]
    }
   ],
   "source": [
    "y_pred = rf.predict(X_test)\n",
    "print(classification_report(y_test, y_pred))"
   ]
  },
  {
   "cell_type": "markdown",
   "id": "5ed503e0-2500-4435-82ec-5366c35233d3",
   "metadata": {},
   "source": [
    "# Save best model (if good metrics)"
   ]
  },
  {
   "cell_type": "code",
   "execution_count": 75,
   "id": "8f62e5e7-dfa5-48ec-89b9-217789f41742",
   "metadata": {},
   "outputs": [],
   "source": [
    "pickle.dump(rf, open(\"Best_Model_1.pkl\", 'wb'))"
   ]
  }
 ],
 "metadata": {
  "kernelspec": {
   "display_name": "Python 3 (ipykernel)",
   "language": "python",
   "name": "python3"
  },
  "language_info": {
   "codemirror_mode": {
    "name": "ipython",
    "version": 3
   },
   "file_extension": ".py",
   "mimetype": "text/x-python",
   "name": "python",
   "nbconvert_exporter": "python",
   "pygments_lexer": "ipython3",
   "version": "3.9.6"
  }
 },
 "nbformat": 4,
 "nbformat_minor": 5
}
